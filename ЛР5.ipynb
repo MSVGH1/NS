{
  "nbformat": 4,
  "nbformat_minor": 0,
  "metadata": {
    "colab": {
      "provenance": [],
      "authorship_tag": "ABX9TyP+kW8jiOBsb0c/mrZF1qjM",
      "include_colab_link": true
    },
    "kernelspec": {
      "name": "python3",
      "display_name": "Python 3"
    },
    "language_info": {
      "name": "python"
    }
  },
  "cells": [
    {
      "cell_type": "markdown",
      "metadata": {
        "id": "view-in-github",
        "colab_type": "text"
      },
      "source": [
        "<a href=\"https://colab.research.google.com/github/MSVGH1/NS/blob/main/%D0%9B%D0%A05.ipynb\" target=\"_parent\"><img src=\"https://colab.research.google.com/assets/colab-badge.svg\" alt=\"Open In Colab\"/></a>"
      ]
    },
    {
      "cell_type": "code",
      "execution_count": 3,
      "metadata": {
        "colab": {
          "base_uri": "https://localhost:8080/"
        },
        "id": "sC00mQHYZscT",
        "outputId": "cda03ac5-660d-4ef3-e98d-6c4c4efcd41a"
      },
      "outputs": [
        {
          "output_type": "stream",
          "name": "stdout",
          "text": [
            "Загальне резервування: 0.85097840896\n",
            "Роздільне резервування: 0.9366274585600001\n"
          ]
        }
      ],
      "source": [
        "#Завдання 1\n",
        "\n",
        "a = [[0.74, 0.34, 0.88],[0.65, 0.52, 0.74]]\n",
        "\n",
        "def general(elements):\n",
        "    \n",
        "    j=0\n",
        "    i=0\n",
        "    s1=1.0\n",
        "    s2=1.0\n",
        "    while i <len(elements[0]):\n",
        "        j=0\n",
        "        while j <len(elements):\n",
        "            s1 = s1*elements[j][i]\n",
        "            j=j+1\n",
        "        s2 = s2 * (1.0 - s1)\n",
        "        s1=1.0\n",
        "        i=i+1\n",
        "    s3 = 1.0-s2\n",
        "    return s3\n",
        "\n",
        "def split(elements):\n",
        "    j=0\n",
        "    i=0\n",
        "    s1=1.0\n",
        "    s2=1.0\n",
        "    while j <len(elements):\n",
        "        i=0\n",
        "        while i <len(elements[0]):\n",
        "            s1 = s1*(1 - elements[j][i])\n",
        "            i=i+1\n",
        "        s2 = s2 * (1.0 - s1)\n",
        "        s1=1.0\n",
        "        j=j+1\n",
        "    return s2\n",
        "\n",
        "\n",
        "print(f\"Загальне резервування: {general(a)}\")\n",
        "print(f\"Роздільне резервування: {split(a)}\")\n",
        "\n"
      ]
    },
    {
      "cell_type": "code",
      "source": [
        "#Завдання 2 \n",
        "import math\n",
        "\n",
        "\n",
        "a = [0.34, 0.88, 0.65]\n",
        "b = [3.1, 1.3, 4.2]\n",
        "c = 27.0\n",
        "\n",
        "def loaded(elements):\n",
        "    i = 0;\n",
        "    s1 = 1;\n",
        "    while i < len(elements):\n",
        "        s1 = s1*(1 - elements[i])\n",
        "        i=i+1\n",
        "    s2 = 1 - s1\n",
        "    return s2\n",
        "\n",
        "def loadedExp(elements):\n",
        "    i = 0;\n",
        "    s1 = 1;\n",
        "    while i < len(elements):\n",
        "        s1 = s1*(1 - (math.e**(-elements[i])))\n",
        "        i=i+1\n",
        "    s2 = 1 -s1\n",
        "    return s2\n",
        "    \n",
        "\n",
        "def loadedN(element):\n",
        "    i = 1;\n",
        "    s1 = 0;\n",
        "    while i<int(element):\n",
        "        s1 = s1+(1/(i*element))\n",
        "        i=i+1\n",
        "    return s1\n",
        "\n",
        "print(f\"Система з навантаженим резервом: {loaded(a)}\")\n",
        "print(f\"Система з навантаженим резервом при експоненціальному розподілу: {loadedExp(b)}\")\n",
        "print(f\"Система з навантаженим резервом з n елементів {loadedN(c)}\")"
      ],
      "metadata": {
        "colab": {
          "base_uri": "https://localhost:8080/"
        },
        "id": "cE19xN2WhYOi",
        "outputId": "4f47574b-ee94-4163-8f56-e826e17c35a2"
      },
      "execution_count": 7,
      "outputs": [
        {
          "output_type": "stream",
          "name": "stdout",
          "text": [
            "Система з навантаженим резервом: 0.97228\n",
            "Система з навантаженим резервом при експоненціальному розподілу: 0.31572102792498924\n",
            "Система з навантаженим резервом з n елементів 0.1427562857857424\n"
          ]
        }
      ]
    },
    {
      "cell_type": "code",
      "source": [
        "#Завдання 3\n",
        "import math\n",
        "\n",
        "a = 20.3\n",
        "b = 23.4\n",
        "c = 18.4\n",
        "\n",
        "def elemideal(elem):\n",
        "    \n",
        "    s1 =(math.e**-elem)*(1 + elem)\n",
        "    return s1 \n",
        "    \n",
        "def elemideal2(elem):\n",
        "    \n",
        "    s1 = (math.e**-elem)*(1 + elem+(math.pow(elem,2)/2))\n",
        "    return s1\n",
        "\n",
        "def elemideal3(elem,elemS):\n",
        "    \n",
        "    s1 =(math.e**-elem)*(1 + (elem*(1-(math.e**-elemS)))/elemS)\n",
        "    return s1 \n",
        "def elemideal4(elem,elemS):\n",
        "    \n",
        "    s1 =(math.e**-elem)*(1 + (elem*(1-(math.e**-elem)))/elemS)+(math.e**-elem)*math.pow(elem/elemS,2)*((1-(math.e**-elemS))-(elemS*math.e**(-elemS)))\n",
        "    return s1\n",
        "\n",
        "print(f\"двоелементнa система з ненавантаженим резервом з ідеальним перемикачем: {elemideal(a)}\")\n",
        "print(f\"триелементна система з ненавантаженим резервом з ідеальним перемикачем: {elemideal2(a)}\")\n",
        "print(f\"двоелементнa система з ненавантаженим резервом з неідеальним перемикачем: {elemideal3(b,c)}\")\n",
        "print(f\"триелементна система з ненавантаженим резервом з неідеальним перемикачем: {elemideal4(b,c)}\")\n",
        "\n"
      ],
      "metadata": {
        "colab": {
          "base_uri": "https://localhost:8080/"
        },
        "id": "T5J49ibMjj3W",
        "outputId": "59ed2574-c71d-4045-9b6d-811196d71108"
      },
      "execution_count": 8,
      "outputs": [
        {
          "output_type": "stream",
          "name": "stdout",
          "text": [
            "двоелементнa система з ненавантаженим резервом з ідеальним перемикачем: 3.25238253893968e-08\n",
            "триелементна система з ненавантаженим резервом з ідеальним перемикачем: 3.471422104766393e-07\n",
            "двоелементнa система з ненавантаженим резервом з неідеальним перемикачем: 1.5626710976682946e-10\n",
            "триелементна система з ненавантаженим резервом з неідеальним перемикачем: 2.675184136577616e-10\n"
          ]
        }
      ]
    },
    {
      "cell_type": "code",
      "source": [
        "#Завдання 4\n",
        "import math\n",
        "\n",
        "\n",
        "a = 23.4\n",
        "b = 18.4\n",
        "\n",
        "def paralel(a1, b1):\n",
        "    \n",
        "    s1 = math.e**(-2*b1) + (((2*a1)/(2*b1 - a1))*((math.e**(-a1))-(math.e**(-2*b1))))\n",
        "    return s1\n",
        "\n",
        "print(f\"Надійність двоелементної системи з розподілом навантаження по паралельно з’єднаним елементам:  {paralel(a, b)}\")\n"
      ],
      "metadata": {
        "colab": {
          "base_uri": "https://localhost:8080/"
        },
        "id": "EeKDD7yYlzHH",
        "outputId": "7fac2ba5-a730-4a16-96b3-833ff034c793"
      },
      "execution_count": 10,
      "outputs": [
        {
          "output_type": "stream",
          "name": "stdout",
          "text": [
            "Надійність двоелементної системи з розподілом навантаження по паралельно з’єднаним елементам:  2.4024242809364493e-10\n"
          ]
        }
      ]
    },
    {
      "cell_type": "code",
      "source": [
        "# завдання 5 \n",
        "import math\n",
        "import matplotlib.pyplot as plt\n",
        "\n",
        "\n",
        "get_ipython().run_line_magic('matplotlib', 'inline')\n",
        "w = 38\n",
        "s = 15\n",
        "p = 0.38\n",
        "a = 3.04\n",
        "T1 = 33\n",
        "W = 48\n",
        "S = 15\n",
        "A = 3.04\n",
        "T2 = 37\n",
        "def noLoaded():\n",
        "    s1 = (math.e**(-W*A))\n",
        "    s2 = 0\n",
        "    n = 2\n",
        "    while(n<=S):\n",
        "        s2  = s2+(((W*A)**n)/(math.factorial(n)))\n",
        "        n=n+1\n",
        "    s1 = s1*(1 + W*A+s2)\n",
        "    return s1\n",
        "def malfunctLoaded():\n",
        "    n=0\n",
        "    s1 =0\n",
        "    while(n<=s):\n",
        "        s1 = s1+ 1/w+n\n",
        "        n= n +1\n",
        "    s2 = T1*s1\n",
        "    return s2\n",
        "def malfunctNoLoaded():   \n",
        "    s1 = T2*((S+1)/W)\n",
        "    return s1\n",
        "print(f\"імовірність безвідмовної роботи ненавантаженого резерву: {noLoaded()}\")\n",
        "print(f\"середнє напрацювання до відмови ненавантаженого резерву: {malfunctNoLoaded()}\")\n",
        "print(f\"середнє напрацювання до відмови навантаженого резерву: {malfunctLoaded()}\")\n",
        "y = list()\n",
        "import decimal\n",
        "decimal.getcontext().prec = 100\n",
        "def getY(x,y):\n",
        "    \n",
        "    s2 = 0\n",
        "    n = 2\n",
        "    x=0\n",
        "    s1 =1\n",
        "    while(x<=1000):\n",
        "        s1= decimal.Decimal(math.e)**decimal.Decimal(-W*S*x)\n",
        "        \n",
        "        s2 = 0\n",
        "        while(n<=S):\n",
        "            s2  =(s2+(((W*A*x)**n)/(math.factorial(n))))\n",
        "            n=n+1\n",
        "        s3 = (s1*decimal.Decimal(1 + W*A*x+s2))\n",
        "        n=2\n",
        "        x=x+100\n",
        "        y.append(s3)\n",
        "    return s3\n",
        "\n",
        "\n",
        "x = list(range(0,1100,100))\n",
        "print(\"При x>100 функція приймає значення,які наближаються до 0, тому на графіку пряма лінія\")\n",
        "getY(x,y)\n",
        "plt.plot(x,y)\n",
        "plt.show()"
      ],
      "metadata": {
        "colab": {
          "base_uri": "https://localhost:8080/",
          "height": 338
        },
        "id": "ST0UmaqanW0v",
        "outputId": "c3f2cfa5-eb71-45fa-b25a-68af404e16ba"
      },
      "execution_count": 19,
      "outputs": [
        {
          "output_type": "stream",
          "name": "stdout",
          "text": [
            "імовірність безвідмовної роботи ненавантаженого резерву: 1.0464226237100869e-43\n",
            "середнє напрацювання до відмови ненавантаженого резерву: 12.333333333333332\n",
            "середнє напрацювання до відмови навантаженого резерву: 3973.894736842106\n",
            "При x>100 функція приймає значення,які наближаються до 0, тому на графіку пряма лінія\n"
          ]
        },
        {
          "output_type": "display_data",
          "data": {
            "text/plain": [
              "<Figure size 432x288 with 1 Axes>"
            ],
            "image/png": "[encoded data removed]"
          },
          "metadata": {
            "needs_background": "light"
          }
        }
      ]
    }
  ]
}