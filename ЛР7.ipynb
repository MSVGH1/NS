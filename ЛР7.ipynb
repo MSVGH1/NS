{
  "nbformat": 4,
  "nbformat_minor": 0,
  "metadata": {
    "colab": {
      "provenance": [],
      "authorship_tag": "ABX9TyMngpG3iW0U3RLrPUqN0mjP",
      "include_colab_link": true
    },
    "kernelspec": {
      "name": "python3",
      "display_name": "Python 3"
    },
    "language_info": {
      "name": "python"
    }
  },
  "cells": [
    {
      "cell_type": "markdown",
      "metadata": {
        "id": "view-in-github",
        "colab_type": "text"
      },
      "source": [
        "<a href=\"https://colab.research.google.com/github/MSVGH1/NS/blob/main/%D0%9B%D0%A07.ipynb\" target=\"_parent\"><img src=\"https://colab.research.google.com/assets/colab-badge.svg\" alt=\"Open In Colab\"/></a>"
      ]
    },
    {
      "cell_type": "code",
      "execution_count": 3,
      "metadata": {
        "colab": {
          "base_uri": "https://localhost:8080/"
        },
        "id": "_goN2eB63vkg",
        "outputId": "b0485c1a-07dc-4e0b-f563-c5fe7db0a019"
      },
      "outputs": [
        {
          "output_type": "stream",
          "name": "stdout",
          "text": [
            "Загальна кількість помилок ПЗ - 425\n"
          ]
        }
      ],
      "source": [
        "#Завдання 1 \n",
        "\n",
        "N1 = 102\n",
        "N2 = 171\n",
        "N12 = 41\n",
        "\n",
        "def pomilky(N1,N2,N12):\n",
        "    E1 = N12/N2\n",
        "    E2 = N12/N1\n",
        "    N = N12/(E1*E2)\n",
        "    return N\n",
        "\n",
        "print(f\"Загальна кількість помилок ПЗ - {round(pomilky(N1,N2,N12))}\")"
      ]
    },
    {
      "cell_type": "code",
      "source": [
        "#Завдання 2\n",
        "import math\n",
        "p1 = 0.339\n",
        "p2 = 0.250\n",
        "p3 = 0.241\n",
        "p4 = 0.155\n",
        "p5 = 0.139\n",
        "p6 = 0.134\n",
        "\n",
        "def nelson(*n):\n",
        "    s1 = 0\n",
        "    for elem in n:\n",
        "        s1 = s1 + math.log(1 - elem)\n",
        "    s2  = math.e**s1\n",
        "    return s2\n",
        "\n",
        "print(f\"5 прогонів програми: {nelson(p1,p2,p3,p4,p5)}\")\n",
        "print(f\"6 прогонів програми: {nelson(p1,p2,p3,p4,p5,p6)}\")"
      ],
      "metadata": {
        "colab": {
          "base_uri": "https://localhost:8080/"
        },
        "id": "mvKIcLmM-Zwl",
        "outputId": "a284eb65-efb3-409f-ff4b-391b455dda8e"
      },
      "execution_count": 7,
      "outputs": [
        {
          "output_type": "stream",
          "name": "stdout",
          "text": [
            "5 прогонів програми: 0.27375644921625003\n",
            "6 прогонів програми: 0.2370730850212725\n"
          ]
        }
      ]
    },
    {
      "cell_type": "code",
      "source": [
        "#Завдання 3 \n",
        "import math\n",
        "\n",
        "a = 8.14\n",
        "b = 0.0145\n",
        "\n",
        "def interval(a,b):\n",
        "    t = abs(math.sqrt((2*a)/b)) - a\n",
        "    return t\n",
        "print(f\"Оптимальний інтервал: {interval(a,b)}\")"
      ],
      "metadata": {
        "colab": {
          "base_uri": "https://localhost:8080/"
        },
        "id": "Ge1OdwEeAbbm",
        "outputId": "87d0fc92-d5f1-40ed-b73b-76c05a472d57"
      },
      "execution_count": 8,
      "outputs": [
        {
          "output_type": "stream",
          "name": "stdout",
          "text": [
            "Оптимальний інтервал: 25.36759049364271\n"
          ]
        }
      ]
    },
    {
      "cell_type": "code",
      "source": [
        "#завдання 4\n",
        "\n",
        "a = 39.6\n",
        "b = 9.2\n",
        "c = 0.93\n",
        "\n",
        "def act_control(a,b,c):\n",
        "    a1 = (2*b)/(1 - c*b)\n",
        "    if a>=a1:\n",
        "        str = \"Створення контрольної точки є доцільним\"\n",
        "    else:\n",
        "        str = \"Створення контрольної точки не  є доцільним\"\n",
        "    return str\n",
        "\n",
        "print(act_control(a,b,c))"
      ],
      "metadata": {
        "colab": {
          "base_uri": "https://localhost:8080/"
        },
        "id": "uFUhgIGxBi94",
        "outputId": "b39135a6-59a0-4050-aca9-c3305c194334"
      },
      "execution_count": 11,
      "outputs": [
        {
          "output_type": "stream",
          "name": "stdout",
          "text": [
            "Створення контрольної точки є доцільним\n"
          ]
        }
      ]
    }
  ]
}