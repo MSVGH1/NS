{
  "nbformat": 4,
  "nbformat_minor": 0,
  "metadata": {
    "colab": {
      "provenance": [],
      "authorship_tag": "ABX9TyPF/hV2rzRH675YRGRDR+oj",
      "include_colab_link": true
    },
    "kernelspec": {
      "name": "python3",
      "display_name": "Python 3"
    },
    "language_info": {
      "name": "python"
    }
  },
  "cells": [
    {
      "cell_type": "markdown",
      "metadata": {
        "id": "view-in-github",
        "colab_type": "text"
      },
      "source": [
        "<a href=\"https://colab.research.google.com/github/MSVGH1/NS/blob/main/%D0%9B%D0%A06.ipynb\" target=\"_parent\"><img src=\"https://colab.research.google.com/assets/colab-badge.svg\" alt=\"Open In Colab\"/></a>"
      ]
    },
    {
      "cell_type": "code",
      "execution_count": 2,
      "metadata": {
        "colab": {
          "base_uri": "https://localhost:8080/"
        },
        "id": "D3SRYfKFvCiJ",
        "outputId": "ccc02278-4ca3-4be8-f0ac-762cc7bdd5ac"
      },
      "outputs": [
        {
          "output_type": "stream",
          "name": "stdout",
          "text": [
            "Навантажений резерв: 1.1730946191244493\n",
            "Ненавантажений резерв: 1.1018993702747935\n"
          ]
        }
      ],
      "source": [
        "#Завдання 1 \n",
        "import math\n",
        "\n",
        "\n",
        "a = 0.14 \n",
        "b = 110\n",
        "\n",
        "def loaded1(a,b):\n",
        "    U = 1/b\n",
        "    A = math.sqrt(a**a + 6*a*U +U**U)\n",
        "    B = 3*a + U\n",
        "    P = (((A + B)/(2*A)) * (math.e**(-0.5*(B-A)))) + (((A - B)/(2*A)) * (math.e**(-0.5*(B+A))))\n",
        "    return P\n",
        "\n",
        "def loaded2(a,b):\n",
        "    U = 1/b\n",
        "    A = math.sqrt(4*a*U + U**U)\n",
        "    B = 2*a + U \n",
        "    P = (((A + B)/(2*A)) * (math.e**(-0.5*(B-A)))) + (((A - B)/(2*A)) * (math.e**(-0.5*(B+A))))\n",
        "    return P\n",
        "\n",
        "print(f\"Навантажений резерв: {loaded1(a,b)}\")\n",
        "print(f\"Ненавантажений резерв: {loaded2(a,b)}\")\n",
        "\n"
      ]
    },
    {
      "cell_type": "code",
      "source": [
        "#Завдання 2\n",
        "import math\n",
        "n = 16\n",
        "k = 3\n",
        "a = 0.63\n",
        "t = 0.91\n",
        "p = 0.51\n",
        "\n",
        "def limited(n,a,t,p):\n",
        "    s1 = 0\n",
        "    r = 0\n",
        "    while(r<n):\n",
        "        \n",
        "        s1 = s1+((math.factorial(n))/math.factorial(n-r))*(p**r)\n",
        "        r = r+1\n",
        "        s2 = math.e**(-((n*(p**(n-1))*a*t)/((1+p)**n)))\n",
        "   \n",
        "    return s2\n",
        "def unlimited(n,a,t,p):\n",
        "    s1 = math.e**(-((n*(p**(n-1))*a*t)/((1+p)**n)))\n",
        "    return s1\n",
        "\n",
        "print(f\"Обмежений ремонт: {limited(n,a,t,p)}\")\n",
        "print(f\"Необмежений ремонт: {unlimited(n,a,t,p)}\")\n"
      ],
      "metadata": {
        "colab": {
          "base_uri": "https://localhost:8080/"
        },
        "id": "KrPnKlaF0Q-Z",
        "outputId": "6e77b24e-2091-4143-fdcf-a268f411a10d"
      },
      "execution_count": 4,
      "outputs": [
        {
          "output_type": "stream",
          "name": "stdout",
          "text": [
            "Обмежений ремонт: 0.9999994842689286\n",
            "Необмежений ремонт: 0.9999994842689286\n"
          ]
        }
      ]
    },
    {
      "cell_type": "code",
      "source": [
        "#Завдання 3\n",
        "import math\n",
        "n = 16\n",
        "k = 3\n",
        "a = 0.63\n",
        "t = 0.91\n",
        "p = 0.51\n",
        "\n",
        "def limited(n,a,t,p):\n",
        "    s1 = 0\n",
        "    s2 = 0\n",
        "    r = 0\n",
        "    while(r<n):\n",
        "        s1 = s1+((math.factorial(n))/math.factorial(n-r))*(p**n)\n",
        "        s2 = s2+((math.factorial(n))/math.factorial(n-r))*(p**r)\n",
        "        r = r+1\n",
        "    s3 = (1-(((math.factorial(n))*(p**n))/(s1))) * (math.e**(-(((math.factorial(n))*(p**(n-1))*t)/(s2))))\n",
        "    return s3\n",
        "    \n",
        "def unlimited(n,a,t,p):\n",
        "    s1 = (1-((p**n)/((1+p)**n)))*(math.e**(-((n*(p**(n-1))*a*t)/((1+p)**n))))\n",
        "    return s1\n",
        "\n",
        "print(f\"машини з обмеженим ремонтом: {limited(n,a,t,p)}\")\n",
        "print(f\"машини з необмеженим ремонтом: {unlimited(n,a,t,p)}\")\n"
      ],
      "metadata": {
        "colab": {
          "base_uri": "https://localhost:8080/"
        },
        "id": "3UN3bZzc2OgW",
        "outputId": "0c5dac57-8ee6-4a7c-ee16-bc12df71c837"
      },
      "execution_count": 5,
      "outputs": [
        {
          "output_type": "stream",
          "name": "stdout",
          "text": [
            "машини з обмеженим ремонтом: 0.3120805605104895\n",
            "машини з необмеженим ремонтом: 0.9999994555947203\n"
          ]
        }
      ]
    }
  ]
}